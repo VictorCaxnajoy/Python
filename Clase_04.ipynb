{
  "cells": [
    {
      "cell_type": "markdown",
      "metadata": {
        "id": "nCjE4hgyjNPT"
      },
      "source": [
        "# Reto 5:\n",
        "\n",
        "---\n",
        "\n"
      ]
    },
    {
      "cell_type": "markdown",
      "metadata": {
        "id": "DUu2A4GtjRV6"
      },
      "source": [
        "## Ejercicio 1: Funciones\n"
      ]
    },
    {
      "cell_type": "markdown",
      "metadata": {
        "id": "2jO4qINJEx4G"
      },
      "source": [
        "De nuestro código que evaluaba cual era una el número mayor, convertirla a función.\n",
        "\n",
        "Entrada: num1, num2\n",
        "\n",
        "Salida: \n",
        "\n",
        "1. El num1 es mayor que num2\n",
        "2. El num2 es mayor que num2\n",
        "3. Ambos son iguales"
      ]
    },
    {
      "cell_type": "code",
      "execution_count": 9,
      "metadata": {
        "id": "NVZPjZej7MRc",
        "colab": {
          "base_uri": "https://localhost:8080/"
        },
        "outputId": "16eddaeb-3328-431d-f568-5de64e9e57f6"
      },
      "outputs": [
        {
          "output_type": "stream",
          "name": "stdout",
          "text": [
            "Numero 1: 4\n",
            "Número 2:4\n",
            "Ambos números son Iguales.\n"
          ]
        }
      ],
      "source": [
        "def comparacion(num1, num2):\n",
        "  if num1 > num2:\n",
        "    return (f\"El numero {num1} es mayor que el número {num2}\")\n",
        "  elif num1 == num2:\n",
        "    return (f\"Ambos números son Iguales.\")\n",
        "  else:\n",
        "    return (f\"El número {num2} es mayor que el número {num1}\")\n",
        "\n",
        "print(comparacion(int(input(\"Numero 1: \")), int(input(\"Número 2:\"))))\n"
      ]
    },
    {
      "cell_type": "markdown",
      "metadata": {
        "id": "CMjOoRIu56Dz"
      },
      "source": [
        "## Ejercicio 2:"
      ]
    },
    {
      "cell_type": "markdown",
      "metadata": {
        "id": "_h6ykrGb6nLK"
      },
      "source": [
        "Crear una función que reciba como parameto un texto y que devuelva en el `return` una lista que contenga cada palabra del texto.\n",
        "\n",
        "|Entrada | Salida |\n",
        "| - | - | \n",
        "| \"El señor de los anillos\" | [\"El\", \"señor\", \"de\", \"los\", \"anillos\"] |\n",
        "\n",
        "\n",
        "\n",
        "Utiliar el metodo .split() al texto\n",
        "\n",
        "**Ejemplo**\n",
        "\n",
        "\"Buenos días\".split()"
      ]
    },
    {
      "cell_type": "code",
      "execution_count": 14,
      "metadata": {
        "id": "aDKTm_Va7Lxy",
        "colab": {
          "base_uri": "https://localhost:8080/"
        },
        "outputId": "97dbf30f-662c-43df-b24c-741944e75937"
      },
      "outputs": [
        {
          "output_type": "stream",
          "name": "stdout",
          "text": [
            "Escriba su texto: El Señor de los anillos\n",
            "['El', 'Señor', 'de', 'los', 'anillos']\n"
          ]
        }
      ],
      "source": [
        "def listaPalabras(cadena):\n",
        "  lista = []\n",
        "  cadena = cadena.split(\" \")\n",
        "  for i in cadena:\n",
        "    lista.append(i)\n",
        "  return lista\n",
        "\n",
        "print(listaPalabras(input(\"Escriba su texto: \")))\n"
      ]
    },
    {
      "cell_type": "markdown",
      "metadata": {
        "id": "nqLqd-fR6nhv"
      },
      "source": [
        "## Ejercicio 3:"
      ]
    },
    {
      "cell_type": "markdown",
      "metadata": {
        "id": "eig34ua-EYh2"
      },
      "source": [
        "Un piloto de carreras ha registrado su velocidad cada segundo en la siguiente lista:\n",
        "\n",
        "velocidad = [0, 60, 80, 117, 140, 155, 170, 189, 205, 223, 234, 239, 234, 227, 215, 180, 155, 160, 189, 206, 235]\n",
        "\n",
        "Hacer una función que imprima en que segundo el piloto rebaso los 210 km/h\n",
        "\n",
        "\n",
        "**Ejemplo de impresión**\n",
        "\n",
        "En el segundo `9` el piloto llego a los `223` km/h\n",
        "\n",
        "\n"
      ]
    },
    {
      "cell_type": "code",
      "execution_count": 15,
      "metadata": {
        "id": "gYyD_JjdXLVJ",
        "colab": {
          "base_uri": "https://localhost:8080/"
        },
        "outputId": "6379c1df-e485-4044-f77a-332f604e8785"
      },
      "outputs": [
        {
          "output_type": "stream",
          "name": "stdout",
          "text": [
            "En el segundo el 9 el piloto llego a los 223 km/h\n",
            "En el segundo el 10 el piloto llego a los 234 km/h\n",
            "En el segundo el 11 el piloto llego a los 239 km/h\n",
            "En el segundo el 12 el piloto llego a los 234 km/h\n",
            "En el segundo el 13 el piloto llego a los 227 km/h\n",
            "En el segundo el 14 el piloto llego a los 215 km/h\n",
            "En el segundo el 20 el piloto llego a los 235 km/h\n"
          ]
        }
      ],
      "source": [
        "def velocidad(lista_Velocidades):\n",
        "  contador = 0\n",
        "  for i in lista_Velocidades:\n",
        "    if i > 210:\n",
        "      print(f\"En el segundo el {contador} el piloto llego a los {i} km/h\")\n",
        "      contador += 1\n",
        "    else:\n",
        "      contador += 1\n",
        "\n",
        "\n",
        "velocidad([0, 60, 80, 117, 140, 155, 170, 189, 205, 223, 234, 239, 234, 227, 215, 180, 155, 160, 189, 206, 235])"
      ]
    },
    {
      "cell_type": "markdown",
      "metadata": {
        "id": "iCfd9mge80LH"
      },
      "source": [
        "## Extra points"
      ]
    },
    {
      "cell_type": "markdown",
      "metadata": {
        "id": "y5rxpnZK84l8"
      },
      "source": [
        "Hacer una función que nos imprima cuantos números pares e impares tiene una lista.\n",
        "\n",
        "Para evaluar un par o impar puedes utilizar el\n",
        "\n",
        "```Python\n",
        "if numero%2 = 0:\n",
        "    print(\"numero es par\")\n",
        "else:\n",
        "    print(\"numero es impar\")\n",
        "```\n",
        "\n",
        "|Entrada | Salida |\n",
        "| - | - | \n",
        "| [2,3,6,8,9] | Tiene `3` pares y `2` inpares |"
      ]
    },
    {
      "cell_type": "code",
      "execution_count": 20,
      "metadata": {
        "id": "ozdRS5i49RK5",
        "colab": {
          "base_uri": "https://localhost:8080/"
        },
        "outputId": "818749af-d5a6-46dc-d93c-eca8d6aeefea"
      },
      "outputs": [
        {
          "output_type": "stream",
          "name": "stdout",
          "text": [
            "Tiene 3 números pares y 2 números inpares.\n"
          ]
        }
      ],
      "source": [
        "def par_Impar(lista):\n",
        "  contadorPares = 0\n",
        "  contadorImpares = 0\n",
        "  for numero in lista:\n",
        "    if numero%2 == 0:\n",
        "      contadorPares += 1\n",
        "    else:\n",
        "      contadorImpares += 1\n",
        "  print(f\"Tiene {contadorPares} números pares y {contadorImpares} números inpares.\")\n",
        "\n",
        "par_Impar([2,3,6,8,9])"
      ]
    },
    {
      "cell_type": "code",
      "source": [],
      "metadata": {
        "id": "RcrghSKHetbJ"
      },
      "execution_count": null,
      "outputs": []
    }
  ],
  "metadata": {
    "colab": {
      "provenance": []
    },
    "kernelspec": {
      "display_name": "Python 3",
      "language": "python",
      "name": "python3"
    },
    "language_info": {
      "codemirror_mode": {
        "name": "ipython",
        "version": 3
      },
      "file_extension": ".py",
      "mimetype": "text/x-python",
      "name": "python",
      "nbconvert_exporter": "python",
      "pygments_lexer": "ipython3",
      "version": "3.11.0"
    },
    "vscode": {
      "interpreter": {
        "hash": "a34d6c5596e8f0fe3ccb31a2ba88741da5b50cb7bc045f0a73cd34a9ddc67473"
      }
    }
  },
  "nbformat": 4,
  "nbformat_minor": 0
}