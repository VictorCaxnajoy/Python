{
 "cells": [
  {
   "cell_type": "markdown",
   "metadata": {},
   "source": [
    "# Clase 1"
   ]
  },
  {
   "cell_type": "code",
   "execution_count": 1,
   "metadata": {},
   "outputs": [
    {
     "name": "stdout",
     "output_type": "stream",
     "text": [
      "Hola Mundo\n"
     ]
    }
   ],
   "source": [
    "print(\"Hola Mundo\")"
   ]
  },
  {
   "cell_type": "code",
   "execution_count": 2,
   "metadata": {},
   "outputs": [],
   "source": [
    "miNombre = \"Victor Caxnajoy\""
   ]
  },
  {
   "cell_type": "code",
   "execution_count": 3,
   "metadata": {},
   "outputs": [
    {
     "name": "stdout",
     "output_type": "stream",
     "text": [
      "Victor Caxnajoy\n"
     ]
    }
   ],
   "source": [
    "print (miNombre)"
   ]
  },
  {
   "cell_type": "code",
   "execution_count": 5,
   "metadata": {},
   "outputs": [
    {
     "name": "stdout",
     "output_type": "stream",
     "text": [
      "Mi nombre es Victor Caxnajoy\n"
     ]
    }
   ],
   "source": [
    "print(f\"Mi nombre es {miNombre}\")"
   ]
  },
  {
   "cell_type": "markdown",
   "metadata": {},
   "source": [
    "## Reto 1\n",
    "### Ejercicio 1: Variables"
   ]
  },
  {
   "cell_type": "code",
   "execution_count": 2,
   "metadata": {},
   "outputs": [
    {
     "name": "stdout",
     "output_type": "stream",
     "text": [
      "69\n"
     ]
    }
   ],
   "source": [
    "# crea una llamada \"titulo_libro\" y asignale el libro que mas te guste \n",
    "\n",
    "tituloLibro = \"Las Aventuras de Tom Sayer\"\n",
    "\n",
    "# Crea una variable llamada numeroSuerte y asignale tu numero de la suerte\n",
    "\n",
    "numeroSuerte = 23\n",
    "\n",
    "# Crea una variable llamada `suma_edades` y coloca la suma de las edades de los integrantes de equipo y al final manda a imprimir la variable con `print()`\n",
    "\n",
    "sumaEdades = 69\n",
    "print(sumaEdades)\n"
   ]
  },
  {
   "cell_type": "markdown",
   "metadata": {},
   "source": [
    "### Ejercicio 2: suma de variables"
   ]
  },
  {
   "cell_type": "code",
   "execution_count": 5,
   "metadata": {},
   "outputs": [
    {
     "name": "stdout",
     "output_type": "stream",
     "text": [
      "1281\n",
      "-417\n",
      "182000\n"
     ]
    }
   ],
   "source": [
    "# Escogan 3 números aleatorioamente entre 100 y 1000 en equipo y asignenlos a `valor1`, `valor2` y `valor2`\n",
    "\n",
    "valor1 = 500\n",
    "valor2 = 364\n",
    "valor3 = 781\n",
    "\n",
    "# Ahora imprimir la suma de `valor1` con `valor3`\n",
    "print(valor1 + valor3)\n",
    "\n",
    "# La resta de `valor2` menos `valor3`\n",
    "print(valor2 - valor3)\n",
    "\n",
    "# La multiplicación entre `valor1` y `valor2`\n",
    "print(valor1 * valor2)"
   ]
  },
  {
   "cell_type": "markdown",
   "metadata": {},
   "source": [
    "### Ejercicio 3: Format"
   ]
  },
  {
   "cell_type": "code",
   "execution_count": 7,
   "metadata": {},
   "outputs": [
    {
     "name": "stdout",
     "output_type": "stream",
     "text": [
      "La suma de las edades de Juan, Maria y Pablo es de 69 años.\n"
     ]
    }
   ],
   "source": [
    "''' Con la variable `suma_edades` que hiciste en el Ejercicio 1, deberas meterla en un print de tal manera que salga de esta manera el mensaje:\n",
    "'La suma de las edades de Juan, María y Pablo es de 45 años' Cambia los nombres, por los integrantes del equipo '''\n",
    "\n",
    "print(f\"La suma de las edades de Juan, Maria y Pablo es de {sumaEdades} años.\")"
   ]
  },
  {
   "cell_type": "code",
   "execution_count": 9,
   "metadata": {},
   "outputs": [
    {
     "name": "stdout",
     "output_type": "stream",
     "text": [
      "El área del terreno con un ancho de 25 mts y de largo 30 mts, es de: 750 mts cuadrados.\n"
     ]
    }
   ],
   "source": [
    "'''Crea 3 varaibles, `ancho_terreno`, `largo_terrero` y `area_terreno`. \n",
    "Al ancho le asignaras 25 y al largo 30\n",
    "Sacaras el área con la formula Ancho x Alto y lo asiganaras a `area_terreno`.\n",
    "Imprime un mensaje en format que se vea de la siguiente manera, utilizando las variables\n",
    "El área del terreno con un ancho de 25 mts y de largo 30 mts, es de: 750 mts cuadrados\n",
    "'''\n",
    "\n",
    "anchoTerreno = 25\n",
    "largoTerreno = 30\n",
    "areaTerreno = anchoTerreno * largoTerreno\n",
    "\n",
    "print(f\"El área del terreno con un ancho de {anchoTerreno} mts y de largo {largoTerreno} mts, es de: {areaTerreno} mts cuadrados.\")"
   ]
  },
  {
   "cell_type": "markdown",
   "metadata": {},
   "source": [
    "### Ejercicio 4: Input"
   ]
  },
  {
   "cell_type": "code",
   "execution_count": 11,
   "metadata": {},
   "outputs": [
    {
     "name": "stdout",
     "output_type": "stream",
     "text": [
      "Su nombre es: Victor Caxnajoy y su edad es de 21 años.\n"
     ]
    }
   ],
   "source": [
    "'''Crea una variable llamada 'nombre' donde le asignaras un input que diga \"Dame tu nombre.\"\n",
    "Crea una variable llamada 'edad' donde le asignaras un input(dentro de un int) que diga \"Dame tu edad\".\n",
    "Manda a imprimir un format que diga: \"Su nombre es:_ y su edad es de_años\"'''\n",
    "\n",
    "nombre = input(\"Dame tu nombre: \")\n",
    "edad = int(input(\"Dame tu edad: \"))\n",
    "\n",
    "print(f\"Su nombre es: {nombre} y su edad es de {edad} años.\")"
   ]
  },
  {
   "cell_type": "markdown",
   "metadata": {},
   "source": [
    "### Extra Points"
   ]
  },
  {
   "cell_type": "code",
   "execution_count": 13,
   "metadata": {},
   "outputs": [
    {
     "name": "stdout",
     "output_type": "stream",
     "text": [
      "El 25.7% de 574 es de 147.518\n"
     ]
    }
   ],
   "source": [
    "'''Crea una variable llamada total y le asignaras un input numerico que diga \"Dame un numero\" \n",
    "Crea una variable llamada porcentaje y le asignaras un input numerico que diga \"Dame un porcentaje a sacar\" \n",
    "Creauna variable llamada resultado donde haras el calculo del porcentaje del numero con las variables total y porcentaje\n",
    "Manda a imprimir un format que diga \"El _% de_ es de_\"\n",
    "'''\n",
    "\n",
    "total = int(input(\"Dame un número: \"))\n",
    "porcentaje = float(input(\"¿Qué porcentaje desea obtener: ?\"))\n",
    "resultado = (porcentaje * total) / 100\n",
    "\n",
    "print(f\"El {porcentaje}% de {total} es de {resultado}\")"
   ]
  }
 ],
 "metadata": {
  "kernelspec": {
   "display_name": "Python 3.11.0 64-bit",
   "language": "python",
   "name": "python3"
  },
  "language_info": {
   "codemirror_mode": {
    "name": "ipython",
    "version": 3
   },
   "file_extension": ".py",
   "mimetype": "text/x-python",
   "name": "python",
   "nbconvert_exporter": "python",
   "pygments_lexer": "ipython3",
   "version": "3.11.0"
  },
  "orig_nbformat": 4,
  "vscode": {
   "interpreter": {
    "hash": "fc31a2a91f2157a29013935e07c5078ce878dda5da1068987a0f056962b99581"
   }
  }
 },
 "nbformat": 4,
 "nbformat_minor": 2
}
