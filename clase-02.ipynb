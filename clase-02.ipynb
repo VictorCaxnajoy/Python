{
 "cells": [
  {
   "cell_type": "markdown",
   "metadata": {},
   "source": [
    "# Reto 2"
   ]
  },
  {
   "cell_type": "markdown",
   "metadata": {},
   "source": [
    "## Ejercicio 1\n",
    "### Modificar los '_' poniendo el número para que se adecue al resultado."
   ]
  },
  {
   "cell_type": "markdown",
   "metadata": {},
   "source": [
    "#### Que todos los resultados den TRUE"
   ]
  },
  {
   "cell_type": "code",
   "execution_count": 2,
   "metadata": {},
   "outputs": [
    {
     "data": {
      "text/plain": [
       "True"
      ]
     },
     "execution_count": 2,
     "metadata": {},
     "output_type": "execute_result"
    }
   ],
   "source": [
    "6 > 5"
   ]
  },
  {
   "cell_type": "code",
   "execution_count": 3,
   "metadata": {},
   "outputs": [
    {
     "data": {
      "text/plain": [
       "True"
      ]
     },
     "execution_count": 3,
     "metadata": {},
     "output_type": "execute_result"
    }
   ],
   "source": [
    "7 < 8"
   ]
  },
  {
   "cell_type": "code",
   "execution_count": 4,
   "metadata": {},
   "outputs": [
    {
     "data": {
      "text/plain": [
       "True"
      ]
     },
     "execution_count": 4,
     "metadata": {},
     "output_type": "execute_result"
    }
   ],
   "source": [
    "18 < 19"
   ]
  },
  {
   "cell_type": "markdown",
   "metadata": {},
   "source": [
    "#### Que todos los resultados den False"
   ]
  },
  {
   "cell_type": "code",
   "execution_count": 5,
   "metadata": {},
   "outputs": [
    {
     "data": {
      "text/plain": [
       "False"
      ]
     },
     "execution_count": 5,
     "metadata": {},
     "output_type": "execute_result"
    }
   ],
   "source": [
    "56 > 57"
   ]
  },
  {
   "cell_type": "code",
   "execution_count": 6,
   "metadata": {},
   "outputs": [
    {
     "data": {
      "text/plain": [
       "False"
      ]
     },
     "execution_count": 6,
     "metadata": {},
     "output_type": "execute_result"
    }
   ],
   "source": [
    "26 < 25"
   ]
  },
  {
   "cell_type": "code",
   "execution_count": 7,
   "metadata": {},
   "outputs": [
    {
     "data": {
      "text/plain": [
       "False"
      ]
     },
     "execution_count": 7,
     "metadata": {},
     "output_type": "execute_result"
    }
   ],
   "source": [
    "58 > 59"
   ]
  },
  {
   "cell_type": "markdown",
   "metadata": {},
   "source": [
    "## Ejercicio 2: Evaluaciones Complejas.\n",
    "### Modificaras los '_' poniendo el operador que falta para que se adecue al Resultado."
   ]
  },
  {
   "cell_type": "markdown",
   "metadata": {},
   "source": [
    "#### Que todos los resultados den TRUE"
   ]
  },
  {
   "cell_type": "code",
   "execution_count": 8,
   "metadata": {},
   "outputs": [
    {
     "data": {
      "text/plain": [
       "True"
      ]
     },
     "execution_count": 8,
     "metadata": {},
     "output_type": "execute_result"
    }
   ],
   "source": [
    "28 <= 56"
   ]
  },
  {
   "cell_type": "code",
   "execution_count": 9,
   "metadata": {},
   "outputs": [
    {
     "data": {
      "text/plain": [
       "True"
      ]
     },
     "execution_count": 9,
     "metadata": {},
     "output_type": "execute_result"
    }
   ],
   "source": [
    "98 <= 98"
   ]
  },
  {
   "cell_type": "code",
   "execution_count": 10,
   "metadata": {},
   "outputs": [
    {
     "data": {
      "text/plain": [
       "True"
      ]
     },
     "execution_count": 10,
     "metadata": {},
     "output_type": "execute_result"
    }
   ],
   "source": [
    "26 >= 12"
   ]
  },
  {
   "cell_type": "markdown",
   "metadata": {},
   "source": [
    "#### Que todos los resultados den False"
   ]
  },
  {
   "cell_type": "code",
   "execution_count": 11,
   "metadata": {},
   "outputs": [
    {
     "data": {
      "text/plain": [
       "False"
      ]
     },
     "execution_count": 11,
     "metadata": {},
     "output_type": "execute_result"
    }
   ],
   "source": [
    "86 >= 98"
   ]
  },
  {
   "cell_type": "code",
   "execution_count": 26,
   "metadata": {},
   "outputs": [
    {
     "data": {
      "text/plain": [
       "False"
      ]
     },
     "execution_count": 26,
     "metadata": {},
     "output_type": "execute_result"
    }
   ],
   "source": [
    "55 >= 56"
   ]
  },
  {
   "cell_type": "code",
   "execution_count": 18,
   "metadata": {},
   "outputs": [
    {
     "data": {
      "text/plain": [
       "False"
      ]
     },
     "execution_count": 18,
     "metadata": {},
     "output_type": "execute_result"
    }
   ],
   "source": [
    "45 == 35"
   ]
  },
  {
   "cell_type": "markdown",
   "metadata": {},
   "source": [
    "## Ejercicio 3: Condicionales Avanzadas"
   ]
  },
  {
   "cell_type": "markdown",
   "metadata": {},
   "source": [
    "#### Tendremos una variable llamada \"Kilometraje\" de un coche y queremos saber si debe mandarlo a servicio.\n",
    "\n",
    "#### Crea una condicional que nos diga que se debe hacer servicio si tiene mas de 10,000 km"
   ]
  },
  {
   "cell_type": "code",
   "execution_count": 31,
   "metadata": {},
   "outputs": [
    {
     "name": "stdout",
     "output_type": "stream",
     "text": [
      "Llevar a servicio!!\n"
     ]
    }
   ],
   "source": [
    "kilometraje = 12500\n",
    "\n",
    "if (kilometraje > 10000):\n",
    "    print(\"Llevar a servicio!!\")\n",
    "else:\n",
    "    print(\"Aun no es necesario el servicio.\")"
   ]
  },
  {
   "cell_type": "markdown",
   "metadata": {},
   "source": [
    "#### Crea un programa que evalue si Juan puede comprar Alcohol dependiendo de su edad."
   ]
  },
  {
   "cell_type": "code",
   "execution_count": 34,
   "metadata": {},
   "outputs": [
    {
     "name": "stdout",
     "output_type": "stream",
     "text": [
      "Puedes comprar alcohol.\n"
     ]
    }
   ],
   "source": [
    "edadJuan = 21\n",
    "\n",
    "if (edadJuan >= 18):\n",
    "    print(\"Puedes comprar alcohol.\")\n",
    "else:\n",
    "    print(\"No puedes comprar alcohol.\")"
   ]
  },
  {
   "cell_type": "markdown",
   "metadata": {},
   "source": [
    "## Extra Points"
   ]
  },
  {
   "cell_type": "markdown",
   "metadata": {},
   "source": [
    "#### Determinar el pago semanal de un trabajado, solicitando su sueldo X hora y las horas trabajadas con base en la siguiente relacion:\n",
    "\n",
    "Si trabajo entre 1 y 39 horas, se le paga su sueldo de hora normal\n",
    "\n",
    "Si trabajó entre 40 y 49 horas, se le pagan 39 normal y las demas al doble\n",
    "\n",
    "Si trabajó 50 o más, se le pagan 39 horas normal, 10 horas dobles y las demas al triple"
   ]
  },
  {
   "cell_type": "code",
   "execution_count": 52,
   "metadata": {},
   "outputs": [
    {
     "name": "stdout",
     "output_type": "stream",
     "text": [
      "Su sueldo es: 2120.0\n"
     ]
    }
   ],
   "source": [
    "sueldo = float(input(\"Introduzca el Sueldo por hora: \"))\n",
    "horasTrabajadas = float(input(\"Número de horas trabajadas: \"))\n",
    "\n",
    "if (1 <= horasTrabajadas <= 39):\n",
    "    print(f\"Su sueldo es: {sueldo * horasTrabajadas} pesos.\")\n",
    "elif(40 <= horasTrabajadas <= 49):\n",
    "    print(f\"Su sueldo es: {(39 * sueldo) + ((horasTrabajadas - 39) * (sueldo * 2))}\")\n",
    "elif(horasTrabajadas >= 50):\n",
    "    print(f\"Su sueldo es: {(39 * sueldo) + (10 * sueldo * 2) + ((horasTrabajadas - 49) * sueldo * 3)}\")\n",
    "else:\n",
    "    print(\"Su sueldo es: 0.00 pesos\")\n"
   ]
  },
  {
   "cell_type": "markdown",
   "metadata": {},
   "source": [
    "# Reto 3"
   ]
  },
  {
   "cell_type": "markdown",
   "metadata": {},
   "source": [
    "## Ejercicio 1: Listas"
   ]
  },
  {
   "cell_type": "markdown",
   "metadata": {},
   "source": [
    "### Crea una lista con 3 peliculas favoritas y guardalas en una variable llamada \"peliculas_fav\""
   ]
  },
  {
   "cell_type": "code",
   "execution_count": 1,
   "metadata": {},
   "outputs": [],
   "source": [
    "peliculas_fav = [\"Doce hombres en Pugna\",\"Interestelar\",\"Serie 1899\"]"
   ]
  },
  {
   "cell_type": "code",
   "execution_count": 3,
   "metadata": {},
   "outputs": [
    {
     "name": "stdout",
     "output_type": "stream",
     "text": [
      "Interestelar\n"
     ]
    }
   ],
   "source": [
    "# Imprime la pelicula que se encuentra en el indice 1\n",
    "print(peliculas_fav[1])"
   ]
  },
  {
   "cell_type": "markdown",
   "metadata": {},
   "source": [
    "### Crea 2 listas llamadas \"puestos\" y \"Sueldos\"\n",
    "\n",
    "En la lista puestos agregaras 3 puestos de trabajo que se te ocurran\n",
    "\n",
    "En la lista sueldos agregaras los 3 sueldos respectivos a los puestos, esta lista es numerica"
   ]
  },
  {
   "cell_type": "code",
   "execution_count": 4,
   "metadata": {},
   "outputs": [
    {
     "name": "stdout",
     "output_type": "stream",
     "text": [
      "Trabajos: \n",
      "\n",
      "---------------------------------------\n",
      "\n",
      "Puestos                       | Sueldos  \n",
      "Director                      |     50000\n",
      "Desarrollador                 |     20000\n",
      "Asesor                        |     25000\n"
     ]
    }
   ],
   "source": [
    "puestos = [\"Director\", \"Desarrollador\", \"Asesor\"]\n",
    "sueldos = [50000, 20000, 25000]\n",
    "\n",
    "# Una vez creadas las 2 listas, ejecutaras la siguiente celda\n",
    "print(f\"Trabajos: \\n\")\n",
    "print(f'---------------------------------------\\n')\n",
    "print(f'{(\"Puestos\"):29} | {(\"Sueldos\"):9}')\n",
    "print(f'{puestos[0]:29} | {sueldos[0]:9}')\n",
    "print(f'{puestos[1]:29} | {sueldos[1]:9}')\n",
    "print(f'{puestos[2]:29} | {sueldos[2]:9}')"
   ]
  },
  {
   "cell_type": "markdown",
   "metadata": {},
   "source": []
  },
  {
   "cell_type": "markdown",
   "metadata": {},
   "source": [
    "## Ejercicio 2"
   ]
  },
  {
   "cell_type": "markdown",
   "metadata": {},
   "source": [
    "### Agrega una cuarta pelicula a la variable peilculas_fav"
   ]
  },
  {
   "cell_type": "code",
   "execution_count": 5,
   "metadata": {},
   "outputs": [],
   "source": [
    "peliculas_fav.append(\"Serie Mr. Robot\")"
   ]
  },
  {
   "cell_type": "code",
   "execution_count": 6,
   "metadata": {},
   "outputs": [
    {
     "name": "stdout",
     "output_type": "stream",
     "text": [
      "['Doce hombres en Pugna', 'Interestelar', 'Serie 1899', 'Serie Mr. Robot']\n"
     ]
    }
   ],
   "source": [
    "print(peliculas_fav)"
   ]
  },
  {
   "cell_type": "markdown",
   "metadata": {},
   "source": [
    "### A la siguiente lista vacia, agregaras 3 appends. Cada append sera un color"
   ]
  },
  {
   "cell_type": "code",
   "execution_count": 7,
   "metadata": {},
   "outputs": [],
   "source": [
    "colores = []\n",
    "colores.append(\"azul\")\n",
    "colores.append(\"rojo\")\n",
    "colores.append(\"amarillo\")"
   ]
  },
  {
   "cell_type": "code",
   "execution_count": 8,
   "metadata": {},
   "outputs": [
    {
     "name": "stdout",
     "output_type": "stream",
     "text": [
      "['azul', 'rojo', 'amarillo']\n"
     ]
    }
   ],
   "source": [
    "# Imprime la lista colores\n",
    "print(colores)"
   ]
  },
  {
   "cell_type": "markdown",
   "metadata": {},
   "source": [
    "## Ejercicio 3: Slice"
   ]
  },
  {
   "cell_type": "markdown",
   "metadata": {},
   "source": [
    "### Tendremos una lista que contiene 6 ciudades de México."
   ]
  },
  {
   "cell_type": "code",
   "execution_count": 9,
   "metadata": {},
   "outputs": [],
   "source": [
    "ciudades = [\"Cancún\", \"Puerto Vallarta\", \"Guanajuato\", \"Monterrey\", \"Ciudad de México\", \"Guadalajara\"]"
   ]
  },
  {
   "cell_type": "code",
   "execution_count": 13,
   "metadata": {},
   "outputs": [
    {
     "name": "stdout",
     "output_type": "stream",
     "text": [
      "['Cancún', 'Puerto Vallarta']\n"
     ]
    }
   ],
   "source": [
    "# Imprime las primeras 2 ciudades con slice\n",
    "print(ciudades[:2:])"
   ]
  },
  {
   "cell_type": "code",
   "execution_count": 14,
   "metadata": {},
   "outputs": [
    {
     "name": "stdout",
     "output_type": "stream",
     "text": [
      "['Guanajuato', 'Monterrey']\n"
     ]
    }
   ],
   "source": [
    "# Imprime las dos siguientes con slice\n",
    "print(ciudades[2:4])"
   ]
  },
  {
   "cell_type": "code",
   "execution_count": 16,
   "metadata": {},
   "outputs": [
    {
     "name": "stdout",
     "output_type": "stream",
     "text": [
      "['Puerto Vallarta', 'Guanajuato', 'Monterrey', 'Ciudad de México']\n"
     ]
    }
   ],
   "source": [
    "# Imprime las 4 ciudades de enmedio con slice\n",
    "print(ciudades[1:5])"
   ]
  },
  {
   "cell_type": "code",
   "execution_count": 17,
   "metadata": {},
   "outputs": [
    {
     "name": "stdout",
     "output_type": "stream",
     "text": [
      "Guadalajara\n"
     ]
    }
   ],
   "source": [
    "# Imprime la ultima ciudad\n",
    "print(ciudades[-1])"
   ]
  },
  {
   "cell_type": "markdown",
   "metadata": {},
   "source": [
    "## Ejercicio 4: Sort y Reverse"
   ]
  },
  {
   "cell_type": "markdown",
   "metadata": {},
   "source": [
    "### Ordena las siguientes listas"
   ]
  },
  {
   "cell_type": "code",
   "execution_count": 31,
   "metadata": {},
   "outputs": [],
   "source": [
    "numeros1 = [500,900,600,800,200,300,400]\n",
    "numeros2 = [15,48,26,35,95,75,85,96,32,65,84,96,12,35,45,48]"
   ]
  },
  {
   "cell_type": "code",
   "execution_count": 33,
   "metadata": {},
   "outputs": [
    {
     "name": "stdout",
     "output_type": "stream",
     "text": [
      "Lista 1 en orden [200, 300, 400, 500, 600, 800, 900]\n",
      "Lista 2 en orden [12, 15, 26, 32, 35, 35, 45, 48, 48, 65, 75, 84, 85, 95, 96, 96]\n"
     ]
    }
   ],
   "source": [
    "numeros1.sort()\n",
    "numeros2.sort()\n",
    "\n",
    "print(f\"Lista 1 en orden {numeros1}\")\n",
    "print(f\"Lista 2 en orden {numeros2}\")"
   ]
  },
  {
   "cell_type": "markdown",
   "metadata": {},
   "source": [
    "### Ordena la siguiente lista de forma decendente"
   ]
  },
  {
   "cell_type": "code",
   "execution_count": 36,
   "metadata": {},
   "outputs": [
    {
     "name": "stdout",
     "output_type": "stream",
     "text": [
      "[0.85, 0.78, 0.69, 0.48, 0.46, 0.36, 0.28, 0.26, 0.12]\n"
     ]
    }
   ],
   "source": [
    "numeros3 = [0.85, 0.69, 0.36, 0.48, 0.26, 0.78, 0.46, 0.12, 0.28]\n",
    "numeros3.sort(reverse=True)\n",
    "print(numeros3)"
   ]
  },
  {
   "cell_type": "markdown",
   "metadata": {},
   "source": [
    "## Ejercicio 5: count()"
   ]
  },
  {
   "cell_type": "markdown",
   "metadata": {},
   "source": [
    "### La siguiente lista de un niño llamado Luis, que fue agregando el color de cada coche que fue viendo en su camino"
   ]
  },
  {
   "cell_type": "code",
   "execution_count": 37,
   "metadata": {},
   "outputs": [],
   "source": [
    "colores_coche = [\"Rojo\",\"Azul\",\"Negro\",\"Blanco\",\"Rojo\",\"Amarillo\",\"Blanco\",\"Azul\",\"Rojo\",\"Blanco\",\"Negro\",\"Rojo\",\"Blanco\",\"Azul\",\"Blanco\",\"Negro\"]"
   ]
  },
  {
   "cell_type": "code",
   "execution_count": 41,
   "metadata": {},
   "outputs": [
    {
     "name": "stdout",
     "output_type": "stream",
     "text": [
      "Número de coches rojos: 4\n",
      "Número de coches azules: 3\n"
     ]
    }
   ],
   "source": [
    "# ¿Cuántos coches Rojos vio?\n",
    "rojos = colores_coche.count(\"Rojo\")\n",
    "# ¿Cuántos coches Azules vio?\n",
    "azules = colores_coche.count(\"Azul\")\n",
    "\n",
    "print(f\"Número de coches rojos: {rojos}\")\n",
    "print(f\"Número de coches azules: {azules}\")"
   ]
  },
  {
   "cell_type": "markdown",
   "metadata": {},
   "source": [
    "## Ejercicio 6: sum()"
   ]
  },
  {
   "cell_type": "markdown",
   "metadata": {},
   "source": [
    "En una caja registradora llegaron los siguientes precios de productos: 800, 350, 450, 126, 750, 250, 40, 300, 300 \n",
    "\n",
    "Devolver el ticker con el precio total a pagar de los productos"
   ]
  },
  {
   "cell_type": "code",
   "execution_count": 59,
   "metadata": {},
   "outputs": [
    {
     "name": "stdout",
     "output_type": "stream",
     "text": [
      "Producto   | Precio\n",
      "Producto 1 | $800\n",
      "Producto 2 | $350\n",
      "Producto 3 | $450\n",
      "Producto 4 | $126\n",
      "Producto 5 | $750\n",
      "Producto 6 | $250\n",
      "Producto 7 | $40\n",
      "Producto 8 | $300\n",
      "Producto 9 | $300\n",
      "------------------------\n",
      "Total a pagar: $3366\n"
     ]
    }
   ],
   "source": [
    "precios = [800,350,450,126,750,250,40,300,300]\n",
    "suma = sum(precios)\n",
    "producto = 1\n",
    "\n",
    "print(\"Producto   | Precio\")\n",
    "for i in (precios):\n",
    "    print(f\"Producto {producto} | ${i}\")\n",
    "    producto += 1\n",
    "\n",
    "print(\"------------------------\")\n",
    "print(f\"Total a pagar: ${suma}\")"
   ]
  },
  {
   "cell_type": "markdown",
   "metadata": {},
   "source": [
    "## Ejercicio 7: len()"
   ]
  },
  {
   "cell_type": "code",
   "execution_count": 61,
   "metadata": {},
   "outputs": [
    {
     "name": "stdout",
     "output_type": "stream",
     "text": [
      "El numero de coches es: 16\n"
     ]
    }
   ],
   "source": [
    "# ¿Cuántos coches conto Luis en su camino?\n",
    "\n",
    "print(f\"El numero de coches es: {len(colores_coche)}\")"
   ]
  },
  {
   "cell_type": "markdown",
   "metadata": {},
   "source": [
    "## Ejercicio 8: sum() y len()"
   ]
  },
  {
   "cell_type": "markdown",
   "metadata": {},
   "source": [
    "Eligiran a un integrante del equipo y asignara a una lista llamada `calificaciones`, las ultimas calificaciones de su escuela.\n",
    "\n",
    "Imprimir el promedio"
   ]
  },
  {
   "cell_type": "code",
   "execution_count": 65,
   "metadata": {},
   "outputs": [
    {
     "name": "stdout",
     "output_type": "stream",
     "text": [
      "El promedio es: 8.12\n"
     ]
    }
   ],
   "source": [
    "calificaciones = [9,8,6,8,8,9,10,7]\n",
    "promedio = ((sum(calificaciones)) / len(calificaciones))\n",
    "\n",
    "print(f\"El promedio es: {promedio:.2f}\")"
   ]
  },
  {
   "cell_type": "markdown",
   "metadata": {},
   "source": [
    "## Ejercicio 9: max(), min()"
   ]
  },
  {
   "cell_type": "markdown",
   "metadata": {},
   "source": [
    "Con la lista `calificaciones`, sacar la calificación máxima y la calificación mínima"
   ]
  },
  {
   "cell_type": "code",
   "execution_count": 68,
   "metadata": {},
   "outputs": [
    {
     "name": "stdout",
     "output_type": "stream",
     "text": [
      "La calificacion maxima es: 10\n",
      "La calificacion minima es: 6\n"
     ]
    }
   ],
   "source": [
    "print(f\"La calificacion maxima es: {max(calificaciones)}\")\n",
    "print(f\"La calificacion minima es: {min(calificaciones)}\")"
   ]
  }
 ],
 "metadata": {
  "kernelspec": {
   "display_name": "Python 3.11.0 64-bit",
   "language": "python",
   "name": "python3"
  },
  "language_info": {
   "codemirror_mode": {
    "name": "ipython",
    "version": 3
   },
   "file_extension": ".py",
   "mimetype": "text/x-python",
   "name": "python",
   "nbconvert_exporter": "python",
   "pygments_lexer": "ipython3",
   "version": "3.11.0"
  },
  "orig_nbformat": 4,
  "vscode": {
   "interpreter": {
    "hash": "fc31a2a91f2157a29013935e07c5078ce878dda5da1068987a0f056962b99581"
   }
  }
 },
 "nbformat": 4,
 "nbformat_minor": 2
}
